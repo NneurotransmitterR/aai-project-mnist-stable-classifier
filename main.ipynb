{
 "cells": [
  {
   "cell_type": "code",
   "execution_count": 9,
   "id": "a3b86e28-83cb-421f-a526-231e1d328998",
   "metadata": {},
   "outputs": [],
   "source": [
    "import pathlib\n",
    "import torch\n",
    "from torch import nn\n",
    "from torch.utils.data import Dataset, DataLoader\n",
    "import re\n",
    "import numpy as np\n",
    "import matplotlib.pyplot as plt\n",
    "import torch.optim as optim\n",
    "from __future__ import print_function\n",
    "import argparse\n",
    "import torch\n",
    "import torch.nn as nn\n",
    "import torch.nn.functional as F\n",
    "import torch.optim as optim\n",
    "from torchvision import datasets, transforms\n",
    "from torch.optim.lr_scheduler import StepLR\n"
   ]
  },
  {
   "cell_type": "code",
   "execution_count": 11,
   "id": "1b84bef0-fa04-4e38-806e-d260bca00b7f",
   "metadata": {},
   "outputs": [],
   "source": [
    "dataset_root = pathlib.Path(\"./processed_data/\")\n",
    "train_root = dataset_root.joinpath(\"train\")\n",
    "val_root = dataset_root.joinpath(\"val\")\n",
    "test_root = dataset_root.joinpath(\"test\")"
   ]
  },
  {
   "cell_type": "code",
   "execution_count": 3,
   "id": "d1de6e80-41ff-4cb2-af9c-6ce29ba049db",
   "metadata": {},
   "outputs": [
    {
     "name": "stdout",
     "output_type": "stream",
     "text": [
      "Train samples: 60000, Validation samples: 100, Test samples: 9900\n"
     ]
    }
   ],
   "source": [
    "train_paths = list(train_root.glob(\"**/*.npy\"))\n",
    "val_paths = list(val_root.glob(\"**/*.npy\"))\n",
    "test_paths = list(test_root.glob(\"**/*.npy\"))\n",
    "print(f\"Train samples: {len(train_paths)}, Validation samples: {len(val_paths)}, Test samples: {len(test_paths)}\")"
   ]
  },
  {
   "cell_type": "code",
   "execution_count": 4,
   "id": "0ee67b69-00a4-4bd0-a1c4-0db4a5a98d91",
   "metadata": {},
   "outputs": [
    {
     "data": {
      "text/plain": [
       "[PosixPath('processed_data/train/5/8862.npy'),\n",
       " PosixPath('processed_data/train/5/13078.npy')]"
      ]
     },
     "execution_count": 4,
     "metadata": {},
     "output_type": "execute_result"
    }
   ],
   "source": [
    "train_paths[:2]"
   ]
  },
  {
   "cell_type": "code",
   "execution_count": 5,
   "id": "6f9a0a88-71e9-4ea5-8518-ceab973100ac",
   "metadata": {},
   "outputs": [],
   "source": [
    "class OddMnist(Dataset):\n",
    "    \"\"\"Odd Mnist dataset.\"\"\"\n",
    "\n",
    "    def __init__(self, data_root: str):\n",
    "        self.sample_paths = list(train_root.glob(\"**/*.npy\"))\n",
    "\n",
    "    def __len__(self):\n",
    "        return len(self.sample_paths)\n",
    "\n",
    "    def __getitem__(self, idx):\n",
    "        if torch.is_tensor(idx):\n",
    "            idx = idx.tolist()\n",
    "        path = self.sample_paths[idx]\n",
    "        groups = re.match(\"processed_data/(\\w+)/(\\d+)/.*npy\", str(path)).groups()\n",
    "        label = int(groups[1])\n",
    "        return np.load(path), label\n",
    "\n"
   ]
  },
  {
   "cell_type": "code",
   "execution_count": 7,
   "id": "0dec07ee-2908-4f6f-9288-f42f0146df71",
   "metadata": {},
   "outputs": [],
   "source": [
    "def show_examples(dataset):\n",
    "    rand_idxs = np.random.randint(0, len(dataset), size=4)\n",
    "    for i, idx in enumerate(rand_idxs):\n",
    "        sample, label = dataset[idx]\n",
    "        # print(sample, label)\n",
    "        ax = plt.subplot(4, 1, i + 1)\n",
    "        plt.tight_layout()\n",
    "        print(sample.shape)\n",
    "        ax.axis('off')\n",
    "        for j in range(len(sample)):\n",
    "            if sample[j].any():\n",
    "                ax.set_title(f'Sample #{idx}, lable:{label}, exist_idx:{j}')\n",
    "                plt.imshow(sample[j], cmap=plt.cm.gray)\n",
    "        if idx == 3:\n",
    "            plt.show()\n",
    "            break\n",
    "\n",
    "# show_examples(train_dataset)"
   ]
  },
  {
   "cell_type": "code",
   "execution_count": 12,
   "id": "1a9566de-4e8d-447a-82eb-b78e8bc3883d",
   "metadata": {},
   "outputs": [
    {
     "name": "stdout",
     "output_type": "stream",
     "text": [
      "Train Epoch: 1 [0/60000 (0%)]\tLoss: 2.284913\n",
      "Train Epoch: 1 [40000/60000 (67%)]\tLoss: 0.000001\n",
      "\n",
      "Test set: Average loss: 1.4236, Accuracy: 49660/60000 (83%)\n",
      "\n",
      "Train Epoch: 2 [0/60000 (0%)]\tLoss: 0.000000\n",
      "Train Epoch: 2 [40000/60000 (67%)]\tLoss: 0.086531\n",
      "\n",
      "Test set: Average loss: 1.2750, Accuracy: 42625/60000 (71%)\n",
      "\n",
      "Train Epoch: 3 [0/60000 (0%)]\tLoss: 0.000484\n",
      "Train Epoch: 3 [40000/60000 (67%)]\tLoss: 2.933586\n",
      "\n",
      "Test set: Average loss: 1.1004, Accuracy: 44730/60000 (75%)\n",
      "\n",
      "Train Epoch: 4 [0/60000 (0%)]\tLoss: 2.541297\n",
      "Train Epoch: 4 [40000/60000 (67%)]\tLoss: 0.907143\n",
      "\n",
      "Test set: Average loss: 1.5203, Accuracy: 45938/60000 (77%)\n",
      "\n",
      "Train Epoch: 5 [0/60000 (0%)]\tLoss: 0.595243\n",
      "Train Epoch: 5 [40000/60000 (67%)]\tLoss: 1.121229\n",
      "\n",
      "Test set: Average loss: 1.4137, Accuracy: 44435/60000 (74%)\n",
      "\n",
      "Train Epoch: 6 [0/60000 (0%)]\tLoss: 0.518033\n",
      "Train Epoch: 6 [40000/60000 (67%)]\tLoss: 1.127639\n",
      "\n",
      "Test set: Average loss: 1.2125, Accuracy: 44547/60000 (74%)\n",
      "\n",
      "Train Epoch: 7 [0/60000 (0%)]\tLoss: 0.000000\n",
      "Train Epoch: 7 [40000/60000 (67%)]\tLoss: 2.319961\n",
      "\n",
      "Test set: Average loss: 1.1783, Accuracy: 45709/60000 (76%)\n",
      "\n",
      "Train Epoch: 8 [0/60000 (0%)]\tLoss: 0.000000\n",
      "Train Epoch: 8 [40000/60000 (67%)]\tLoss: 0.553683\n",
      "\n",
      "Test set: Average loss: 1.1618, Accuracy: 45185/60000 (75%)\n",
      "\n",
      "Train Epoch: 9 [0/60000 (0%)]\tLoss: 6.075885\n",
      "Train Epoch: 9 [40000/60000 (67%)]\tLoss: 0.618768\n",
      "\n",
      "Test set: Average loss: 1.1967, Accuracy: 46343/60000 (77%)\n",
      "\n",
      "Train Epoch: 10 [0/60000 (0%)]\tLoss: 0.972148\n",
      "Train Epoch: 10 [40000/60000 (67%)]\tLoss: 1.743652\n",
      "\n",
      "Test set: Average loss: 1.1270, Accuracy: 47014/60000 (78%)\n",
      "\n"
     ]
    },
    {
     "ename": "AttributeError",
     "evalue": "'dict' object has no attribute 'save_model'",
     "output_type": "error",
     "traceback": [
      "\u001b[0;31m---------------------------------------------------------------------------\u001b[0m",
      "\u001b[0;31mAttributeError\u001b[0m                            Traceback (most recent call last)",
      "Cell \u001b[0;32mIn[12], line 111\u001b[0m\n\u001b[1;32m    107\u001b[0m         torch\u001b[38;5;241m.\u001b[39msave(model\u001b[38;5;241m.\u001b[39mstate_dict(), \u001b[38;5;124m\"\u001b[39m\u001b[38;5;124mmnist_cnn.pt\u001b[39m\u001b[38;5;124m\"\u001b[39m)\n\u001b[1;32m    110\u001b[0m \u001b[38;5;28;01mif\u001b[39;00m \u001b[38;5;18m__name__\u001b[39m \u001b[38;5;241m==\u001b[39m \u001b[38;5;124m'\u001b[39m\u001b[38;5;124m__main__\u001b[39m\u001b[38;5;124m'\u001b[39m:\n\u001b[0;32m--> 111\u001b[0m     \u001b[43mmain\u001b[49m\u001b[43m(\u001b[49m\u001b[43m)\u001b[49m\n",
      "Cell \u001b[0;32mIn[12], line 106\u001b[0m, in \u001b[0;36mmain\u001b[0;34m()\u001b[0m\n\u001b[1;32m    104\u001b[0m     scheduler\u001b[38;5;241m.\u001b[39mstep()\n\u001b[1;32m    105\u001b[0m plt\u001b[38;5;241m.\u001b[39mplot(losss)\n\u001b[0;32m--> 106\u001b[0m \u001b[38;5;28;01mif\u001b[39;00m \u001b[43margs\u001b[49m\u001b[38;5;241;43m.\u001b[39;49m\u001b[43msave_model\u001b[49m:\n\u001b[1;32m    107\u001b[0m     torch\u001b[38;5;241m.\u001b[39msave(model\u001b[38;5;241m.\u001b[39mstate_dict(), \u001b[38;5;124m\"\u001b[39m\u001b[38;5;124mmnist_cnn.pt\u001b[39m\u001b[38;5;124m\"\u001b[39m)\n",
      "\u001b[0;31mAttributeError\u001b[0m: 'dict' object has no attribute 'save_model'"
     ]
    },
    {
     "data": {
      "image/png": "[encoded data removed]",
      "text/plain": [
       "<Figure size 640x480 with 1 Axes>"
      ]
     },
     "metadata": {},
     "output_type": "display_data"
    }
   ],
   "source": [
    "class Model(nn.Module):\n",
    "    def __init__(self):\n",
    "        super().__init__()\n",
    "        self.seq = torch.nn.Sequential(\n",
    "            nn.Conv2d(10, 32, kernel_size=3),\n",
    "            nn.MaxPool2d(2),\n",
    "            nn.ReLU(),\n",
    "            nn.Conv2d(32, 64, kernel_size=3),\n",
    "            nn.MaxPool2d(2),\n",
    "            nn.ReLU(),\n",
    "            nn.Flatten(),\n",
    "            nn.Linear(1600, 128),\n",
    "            nn.ReLU(),\n",
    "            nn.Linear(128, 10),\n",
    "            nn.LogSoftmax(),\n",
    "        )\n",
    "    def forward(self, X):\n",
    "        return self.seq(X)\n",
    "\n",
    "\n",
    "def train(args, model, device, train_loader, optimizer, epoch):\n",
    "    model.train()\n",
    "    for batch_idx, (data, target) in enumerate(train_loader):\n",
    "        data, target = data.to(device), target.to(device)\n",
    "        optimizer.zero_grad()\n",
    "        output = model(data)\n",
    "        loss = F.nll_loss(output, target)\n",
    "        loss.backward()\n",
    "        optimizer.step()\n",
    "        if batch_idx % args[\"log_interval\"] == 0:\n",
    "            print('Train Epoch: {} [{}/{} ({:.0f}%)]\\tLoss: {:.6f}'.format(\n",
    "                epoch, batch_idx * len(data), len(train_loader.dataset),\n",
    "                100. * batch_idx / len(train_loader), loss.item()))\n",
    "            if args[\"dry_run\"]:\n",
    "                break\n",
    "\n",
    "\n",
    "def test(model, device, test_loader):\n",
    "    model.eval()\n",
    "    test_loss = 0\n",
    "    correct = 0\n",
    "    with torch.no_grad():\n",
    "        for data, target in test_loader:\n",
    "            data, target = data.to(device), target.to(device)\n",
    "            output = model(data)\n",
    "            test_loss += F.nll_loss(output, target, reduction='sum').item()  # sum up batch loss\n",
    "            pred = output.argmax(dim=1, keepdim=True)  # get the index of the max log-probability\n",
    "            correct += pred.eq(target.view_as(pred)).sum().item()\n",
    "\n",
    "    test_loss /= len(test_loader.dataset)\n",
    "    print('\\nTest set: Average loss: {:.4f}, Accuracy: {}/{} ({:.0f}%)\\n'.format(\n",
    "        test_loss, correct, len(test_loader.dataset),\n",
    "        100. * correct / len(test_loader.dataset)))\n",
    "    return test_loss\n",
    "\n",
    "\n",
    "def main():\n",
    "    # Training settings\n",
    "    args = {\n",
    "        \"seed\": 1,\n",
    "        \"batch_size\": 64,\n",
    "        \"test_batch_size\": 64,\n",
    "        \"lr\": 1,\n",
    "         \"gamma\": 0.7,\n",
    "        \"log_interval\": 10000,\n",
    "        \"epochs\": 10,\n",
    "        \"save_model\": True,\n",
    "        \"dry_run\": False\n",
    "    }\n",
    "    use_cuda = torch.cuda.is_available()\n",
    "    train_dataset = OddMnist(train_root)\n",
    "    train_dataloader = DataLoader(train_dataset, batch_size=4, shuffle=True, num_workers=0)\n",
    "\n",
    "    torch.manual_seed(args[\"seed\"])\n",
    "\n",
    "    if use_cuda:\n",
    "        device = torch.device(\"cuda\")\n",
    "    else:\n",
    "        device = torch.device(\"cpu\")\n",
    "\n",
    "    train_kwargs = {'batch_size': args[\"batch_size\"]}\n",
    "    test_kwargs = {'batch_size': args[\"test_batch_size\"]}\n",
    "    if use_cuda:\n",
    "        cuda_kwargs = {'num_workers': 1,\n",
    "                       'pin_memory': True,\n",
    "                       'shuffle': True}\n",
    "        train_kwargs.update(cuda_kwargs)\n",
    "        test_kwargs.update(cuda_kwargs)\n",
    "\n",
    "    train_dataset = OddMnist(train_root)\n",
    "    train_dataloader = DataLoader(train_dataset, batch_size=4, shuffle=True, num_workers=0)\n",
    "    \n",
    "    test_dataset = OddMnist(test_root)\n",
    "    test_dataloader = DataLoader(test_dataset, batch_size=4, shuffle=True, num_workers=0)\n",
    "\n",
    "    model = Model().to(device)\n",
    "    optimizer = optim.Adadelta(model.parameters(), lr=args[\"lr\"])\n",
    "\n",
    "    scheduler = StepLR(optimizer, step_size=1, gamma=args[\"gamma\"])\n",
    "    losss = []\n",
    "    for epoch in range(1, args[\"epochs\"] + 1):\n",
    "        train(args, model, device, train_dataloader, optimizer, epoch)\n",
    "        l = test(model, device, test_dataloader)\n",
    "        losss.append(l)\n",
    "        scheduler.step()\n",
    "    plt.plot(losss)\n",
    "    if args[\"save_model\"]:\n",
    "        torch.save(model.state_dict(), \"mnist_cnn.pt\")\n",
    "\n",
    "\n",
    "if __name__ == '__main__':\n",
    "    main()\n"
   ]
  },
  {
   "cell_type": "code",
   "execution_count": null,
   "id": "d01a4535-cc39-40ec-b50a-266d82aa9fc4",
   "metadata": {},
   "outputs": [],
   "source": []
  }
 ],
 "metadata": {
  "kernelspec": {
   "display_name": "Python 3 (ipykernel)",
   "language": "python",
   "name": "python3"
  },
  "language_info": {
   "codemirror_mode": {
    "name": "ipython",
    "version": 3
   },
   "file_extension": ".py",
   "mimetype": "text/x-python",
   "name": "python",
   "nbconvert_exporter": "python",
   "pygments_lexer": "ipython3",
   "version": "3.10.13"
  }
 },
 "nbformat": 4,
 "nbformat_minor": 5
}
